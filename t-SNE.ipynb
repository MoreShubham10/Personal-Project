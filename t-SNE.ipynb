{
 "cells": [
  {
   "cell_type": "code",
   "execution_count": null,
   "metadata": {},
   "outputs": [],
   "source": [
    "%matplotlib inline\n",
    "from matplotlib import pyplot as plt\n",
    "import matplotlib.cm as cm\n",
    "import fnmatch\n",
    "import os\n",
    "import numpy as np\n",
    "import librosa\n",
    "import matplotlib.pyplot as plt\n",
    "import librosa.display\n",
    "from sklearn.manifold import TSNE\n",
    "import json"
   ]
  },
  {
   "cell_type": "code",
   "execution_count": 2,
   "metadata": {},
   "outputs": [],
   "source": [
    "path = 'E:\\Music_Notes'"
   ]
  },
  {
   "cell_type": "code",
   "execution_count": 3,
   "metadata": {},
   "outputs": [
    {
     "name": "stdout",
     "output_type": "stream",
     "text": [
      "found 20 .wav files in E:\\Music_Notes\n"
     ]
    }
   ],
   "source": [
    "files = []\n",
    "for root, dirnames, filenames in os.walk(path):\n",
    "    for filename in fnmatch.filter(filenames, '*.wav'):\n",
    "        files.append(os.path.join(root, filename))\n",
    "\n",
    "print(\"found %d .wav files in %s\"%(len(files),path))"
   ]
  },
  {
   "cell_type": "code",
   "execution_count": 4,
   "metadata": {},
   "outputs": [],
   "source": [
    "def get_features(y, sr):\n",
    "    y = y[0:sr]\n",
    "    S = librosa.feature.melspectrogram(y,sr=sr, n_mels=128)\n",
    "    log_S = librosa.amplitude_to_db(S, ref=np.max)\n",
    "    mfcc = librosa.feature.mfcc(S=log_S, n_mfcc=13)\n",
    "    delta_mfcc = librosa.feature.delta(mfcc, mode='nearest')\n",
    "    delta2_mfcc = librosa.feature.delta(mfcc, order=2, mode='nearest')\n",
    "    feature_vector = np.concatenate((np.mean(mfcc,1), np.mean(delta_mfcc,1), np.mean(delta2_mfcc,1)))\n",
    "    feature_vector = (feature_vector-np.mean(feature_vector)) / np.std(feature_vector)\n",
    "    return feature_vector"
   ]
  },
  {
   "cell_type": "code",
   "execution_count": 5,
   "metadata": {},
   "outputs": [
    {
     "name": "stdout",
     "output_type": "stream",
     "text": [
      "get 1 of 20 = E:\\Music_Notes\\A.wav\n",
      "get 2 of 20 = E:\\Music_Notes\\B.wav\n",
      "get 3 of 20 = E:\\Music_Notes\\Bb.wav\n",
      "get 4 of 20 = E:\\Music_Notes\\C.wav\n",
      "get 5 of 20 = E:\\Music_Notes\\C1.wav\n",
      "get 6 of 20 = E:\\Music_Notes\\cello.wav\n",
      "get 7 of 20 = E:\\Music_Notes\\C_s.wav\n",
      "get 8 of 20 = E:\\Music_Notes\\C_s1.wav\n",
      "get 9 of 20 = E:\\Music_Notes\\D.wav\n",
      "get 10 of 20 = E:\\Music_Notes\\D1.wav\n",
      "get 11 of 20 = E:\\Music_Notes\\D_s.wav\n",
      "get 12 of 20 = E:\\Music_Notes\\D_s1.wav\n",
      "get 13 of 20 = E:\\Music_Notes\\E.wav\n",
      "get 14 of 20 = E:\\Music_Notes\\E1.wav\n",
      "get 15 of 20 = E:\\Music_Notes\\F.wav\n",
      "get 16 of 20 = E:\\Music_Notes\\F1.wav\n",
      "get 17 of 20 = E:\\Music_Notes\\F_s.wav\n",
      "get 18 of 20 = E:\\Music_Notes\\G.wav\n",
      "get 19 of 20 = E:\\Music_Notes\\gun.wav\n",
      "get 20 of 20 = E:\\Music_Notes\\G_s.wav\n",
      "calculated 20 feature vectors\n"
     ]
    }
   ],
   "source": [
    "feature_vectors = []\n",
    "sound_paths = []\n",
    "for i,f in enumerate(files):\n",
    "   # if i % 100 == 0:  this was because there were 6000 sounds in original dataset and printing every single is lengthy\n",
    "    print(\"get %d of %d = %s\"%(i+1, len(files), f))\n",
    "    try:\n",
    "        y, sr = librosa.load(f)\n",
    "        if len(y) < 2:\n",
    "            print(\"error loading %s\" % f)\n",
    "            continue\n",
    "        feat = get_features(y, sr)\n",
    "        feature_vectors.append(feat)\n",
    "        sound_paths.append(f)\n",
    "    except:\n",
    "        print(\"error loading %s\" % f)\n",
    "        \n",
    "print(\"calculated %d feature vectors\"%len(feature_vectors))"
   ]
  },
  {
   "cell_type": "code",
   "execution_count": 6,
   "metadata": {},
   "outputs": [
    {
     "name": "stdout",
     "output_type": "stream",
     "text": [
      "[t-SNE] Computing 7 nearest neighbors...\n",
      "[t-SNE] Indexed 20 samples in 0.033s...\n",
      "[t-SNE] Computed neighbors for 20 samples in 0.002s...\n",
      "[t-SNE] Computed conditional probabilities for sample 20 / 20\n",
      "[t-SNE] Mean sigma: 0.042492\n",
      "[t-SNE] Computed conditional probabilities in 0.078s\n",
      "[t-SNE] Iteration 50: error = 72.0876770, gradient norm = 0.6843114 (50 iterations in 0.040s)\n",
      "[t-SNE] Iteration 100: error = 55.5489006, gradient norm = 0.3125343 (50 iterations in 0.017s)\n",
      "[t-SNE] Iteration 150: error = 71.3687363, gradient norm = 0.1929698 (50 iterations in 0.025s)\n",
      "[t-SNE] Iteration 200: error = 69.9757538, gradient norm = 0.6505232 (50 iterations in 0.019s)\n",
      "[t-SNE] Iteration 250: error = 50.3138237, gradient norm = 0.4802206 (50 iterations in 0.019s)\n",
      "[t-SNE] KL divergence after 250 iterations with early exaggeration: 50.313824\n",
      "[t-SNE] Iteration 300: error = 0.2825561, gradient norm = 0.0027137 (50 iterations in 0.015s)\n",
      "[t-SNE] Iteration 350: error = 0.2224701, gradient norm = 0.0003402 (50 iterations in 0.015s)\n",
      "[t-SNE] Iteration 400: error = 0.2075503, gradient norm = 0.0003078 (50 iterations in 0.013s)\n",
      "[t-SNE] Iteration 450: error = 0.2019724, gradient norm = 0.0002259 (50 iterations in 0.012s)\n",
      "[t-SNE] Iteration 500: error = 0.2001825, gradient norm = 0.0001082 (50 iterations in 0.021s)\n",
      "[t-SNE] Iteration 550: error = 0.1993627, gradient norm = 0.0000693 (50 iterations in 0.020s)\n",
      "[t-SNE] Iteration 600: error = 0.1987404, gradient norm = 0.0000683 (50 iterations in 0.022s)\n",
      "[t-SNE] Iteration 650: error = 0.1981412, gradient norm = 0.0000730 (50 iterations in 0.024s)\n",
      "[t-SNE] Iteration 700: error = 0.1975735, gradient norm = 0.0000769 (50 iterations in 0.015s)\n",
      "[t-SNE] Iteration 750: error = 0.1969870, gradient norm = 0.0000744 (50 iterations in 0.021s)\n",
      "[t-SNE] Iteration 800: error = 0.1963455, gradient norm = 0.0000880 (50 iterations in 0.019s)\n",
      "[t-SNE] Iteration 850: error = 0.1956643, gradient norm = 0.0000846 (50 iterations in 0.023s)\n",
      "[t-SNE] Iteration 900: error = 0.1949833, gradient norm = 0.0000945 (50 iterations in 0.017s)\n",
      "[t-SNE] Iteration 950: error = 0.1942211, gradient norm = 0.0000774 (50 iterations in 0.017s)\n",
      "[t-SNE] Iteration 1000: error = 0.1934987, gradient norm = 0.0000848 (50 iterations in 0.025s)\n",
      "[t-SNE] KL divergence after 1000 iterations: 0.193499\n"
     ]
    }
   ],
   "source": [
    "model = TSNE(n_components=2, learning_rate=150, perplexity=2, verbose=2, angle=0.1).fit_transform(feature_vectors)"
   ]
  },
  {
   "cell_type": "code",
   "execution_count": 7,
   "metadata": {},
   "outputs": [
    {
     "data": {
      "image/png": "[encoded data removed]",
      "text/plain": [
       "<Figure size 720x720 with 1 Axes>"
      ]
     },
     "metadata": {
      "needs_background": "light"
     },
     "output_type": "display_data"
    }
   ],
   "source": [
    "x_axis=model[:,0]\n",
    "y_axis=model[:,1]\n",
    "\n",
    "plt.figure(figsize = (10,10))\n",
    "plt.scatter(x_axis, y_axis)\n",
    "plt.show()"
   ]
  },
  {
   "cell_type": "code",
   "execution_count": 8,
   "metadata": {},
   "outputs": [
    {
     "data": {
      "text/plain": [
       "[array([-6.157967  ,  0.38780326,  0.19605976,  0.2146348 ,  0.16156869,\n",
       "         0.12885483,  0.11179245,  0.07525707,  0.085475  ,  0.11683103,\n",
       "         0.10806783,  0.09985293,  0.14592811,  0.16957219,  0.16998807,\n",
       "         0.16818878,  0.16660248,  0.16582645,  0.16549803,  0.16503532,\n",
       "         0.16442266,  0.16411597,  0.16436495,  0.16492102,  0.1654674 ,\n",
       "         0.16611667,  0.16673756,  0.16679196,  0.16678235,  0.16672347,\n",
       "         0.16663267,  0.16655537,  0.16650349,  0.16645843,  0.16642483,\n",
       "         0.16643447,  0.16649319,  0.16656473,  0.16661856], dtype=float32),\n",
       " array([-6.1604567 ,  0.33051923,  0.18093617,  0.17639701,  0.14920478,\n",
       "         0.12408409,  0.11582036,  0.09139512,  0.09340929,  0.119465  ,\n",
       "         0.1317012 ,  0.1582439 ,  0.23146313,  0.16613847,  0.16643958,\n",
       "         0.16494969,  0.16348904,  0.16266203,  0.16243905,  0.16242315,\n",
       "         0.16232602,  0.16218089,  0.16224352,  0.16279484,  0.16394515,\n",
       "         0.16544425,  0.16385895,  0.16386974,  0.16389807,  0.16390158,\n",
       "         0.1638772 ,  0.16385521,  0.16385584,  0.163866  ,  0.16386576,\n",
       "         0.16385975,  0.16386598,  0.16388214,  0.16388544], dtype=float32),\n",
       " array([-6.1606874 ,  0.34295535,  0.17604028,  0.17435117,  0.17004745,\n",
       "         0.1368056 ,  0.1240136 ,  0.09953455,  0.09030724,  0.12181527,\n",
       "         0.14296792,  0.13735966,  0.1716074 ,  0.16703814,  0.1673359 ,\n",
       "         0.16576649,  0.16450511,  0.16386966,  0.16336642,  0.16270788,\n",
       "         0.16222253,  0.16226318,  0.16272613,  0.16333137,  0.16405219,\n",
       "         0.16504599,  0.1645382 ,  0.1645963 ,  0.16467145,  0.16464183,\n",
       "         0.16452442,  0.16443686,  0.16442385,  0.16442962,  0.164418  ,\n",
       "         0.16442071,  0.16446377,  0.16452281,  0.16456346], dtype=float32),\n",
       " array([-6.151219  ,  0.53547853,  0.23239045,  0.17848223,  0.18711534,\n",
       "         0.15289457,  0.13664079,  0.10629373,  0.08466948,  0.10160768,\n",
       "         0.10117865,  0.1051013 ,  0.14377545,  0.16234575,  0.16328025,\n",
       "         0.16023444,  0.15743694,  0.15614668,  0.1561053 ,  0.15626082,\n",
       "         0.15600881,  0.15559289,  0.15547214,  0.15562539,  0.15563214,\n",
       "         0.15529417,  0.15711151,  0.15716872,  0.15706669,  0.15695456,\n",
       "         0.15688501,  0.15687332,  0.15689018,  0.1568995 ,  0.15689373,\n",
       "         0.15688394,  0.1568701 ,  0.15684377,  0.15681392], dtype=float32),\n",
       " array([-6.159614  ,  0.3231691 ,  0.16548704,  0.15795873,  0.14581528,\n",
       "         0.10850289,  0.10997345,  0.09228641,  0.08179778,  0.12316098,\n",
       "         0.15492348,  0.19557215,  0.28353983,  0.1664169 ,  0.16730458,\n",
       "         0.16517186,  0.16265695,  0.16052426,  0.15907598,  0.15830961,\n",
       "         0.15820754,  0.15881813,  0.1601455 ,  0.16202757,  0.16407229,\n",
       "         0.16567527,  0.16271311,  0.16288552,  0.16275887,  0.16248642,\n",
       "         0.1621254 ,  0.16181973,  0.16167386,  0.16168703,  0.1618088 ,\n",
       "         0.1620015 ,  0.16222143,  0.16239028,  0.16244802], dtype=float32),\n",
       " array([-6.110604  ,  0.8833602 ,  0.35492548,  0.21371503,  0.2351539 ,\n",
       "         0.16834684,  0.14570636,  0.13969885,  0.04697993,  0.01951594,\n",
       "         0.08011361,  0.03618248, -0.05866762,  0.17382318,  0.17478493,\n",
       "         0.15563372,  0.14612478,  0.14527002,  0.14534527,  0.14541453,\n",
       "         0.1456511 ,  0.14542872,  0.14580914,  0.14568034,  0.14349452,\n",
       "         0.14228529,  0.14576764,  0.14589778,  0.1456911 ,  0.14522971,\n",
       "         0.14482586,  0.14484985,  0.1452654 ,  0.14569876,  0.14580567,\n",
       "         0.14553788,  0.14522864,  0.14529689,  0.14573248], dtype=float32),\n",
       " array([-6.1519227 ,  0.5222122 ,  0.23025122,  0.17533731,  0.1747475 ,\n",
       "         0.12588099,  0.10078603,  0.09478726,  0.09773319,  0.09888612,\n",
       "         0.09752028,  0.13611995,  0.17726928,  0.16324908,  0.16414462,\n",
       "         0.16147977,  0.15892239,  0.15752469,  0.15714458,  0.15704773,\n",
       "         0.156837  ,  0.15668212,  0.15683162,  0.15717964,  0.15739466,\n",
       "         0.1573277 ,  0.1584495 ,  0.15850109,  0.15847026,  0.15840383,\n",
       "         0.15832373,  0.15826736,  0.15824944,  0.15825973,  0.15828626,\n",
       "         0.15832104,  0.1583524 ,  0.15836994,  0.15837173], dtype=float32),\n",
       " array([-6.158901  ,  0.31241563,  0.1606476 ,  0.16968217,  0.13220455,\n",
       "         0.1103622 ,  0.09968571,  0.08103729,  0.10543431,  0.14424185,\n",
       "         0.17537172,  0.24263477,  0.3118125 ,  0.16020933,  0.1604525 ,\n",
       "         0.15904486,  0.15766722,  0.15684439,  0.15651913,  0.15639488,\n",
       "         0.15637694,  0.15665053,  0.1574383 ,  0.15871882,  0.16009267,\n",
       "         0.1609038 ,  0.15814453,  0.15817623,  0.15823142,  0.15821524,\n",
       "         0.15813905,  0.15808888,  0.15809922,  0.15812509,  0.15813391,\n",
       "         0.15814921,  0.1581836 ,  0.15819858,  0.1581731 ], dtype=float32),\n",
       " array([-6.155221  ,  0.4804285 ,  0.19737326,  0.16774105,  0.15910456,\n",
       "         0.12130439,  0.11583938,  0.10574652,  0.10983021,  0.11648745,\n",
       "         0.12687023,  0.16912366,  0.1699348 ,  0.16354357,  0.16449365,\n",
       "         0.1614653 ,  0.15882783,  0.15769023,  0.15754569,  0.15737058,\n",
       "         0.15688194,  0.15651363,  0.15652944,  0.15664198,  0.15651079,\n",
       "         0.15622234,  0.15826428,  0.15837784,  0.15834469,  0.15827744,\n",
       "         0.15819679,  0.15813826,  0.15810841,  0.15807457,  0.15800749,\n",
       "         0.1579213 ,  0.15785564,  0.15782548,  0.15780838], dtype=float32),\n",
       " array([-6.159293  ,  0.27494472,  0.16656409,  0.12766823,  0.10883773,\n",
       "         0.08983184,  0.08471917,  0.08679811,  0.1131691 ,  0.16190681,\n",
       "         0.21283013,  0.2659018 ,  0.2854296 ,  0.16370508,  0.16435054,\n",
       "         0.16269007,  0.16047733,  0.15836127,  0.1569484 ,  0.15662406,\n",
       "         0.15744585,  0.15913711,  0.16117853,  0.1629689 ,  0.16400643,\n",
       "         0.16403471,  0.16102587,  0.1611064 ,  0.16091645,  0.16066082,\n",
       "         0.16041374,  0.16024679,  0.16020514,  0.16029216,  0.16047011,\n",
       "         0.1606768 ,  0.16084968,  0.1609463 ,  0.16095345], dtype=float32),\n",
       " array([-6.1523490e+00,  4.1927379e-01,  2.7301115e-01,  1.8558824e-01,\n",
       "         1.6191907e-01,  1.4152953e-01,  1.2227372e-01,  1.2692368e-01,\n",
       "         1.2533127e-01,  8.1124276e-02,  2.2703692e-02,  4.3010777e-03,\n",
       "         3.6341034e-02,  1.7211699e-01,  1.7307514e-01,  1.7372441e-01,\n",
       "         1.7343722e-01,  1.7271006e-01,  1.7237738e-01,  1.7206454e-01,\n",
       "         1.7115161e-01,  1.7001541e-01,  1.6928548e-01,  1.6893265e-01,\n",
       "         1.6877155e-01,  1.6892147e-01,  1.6940446e-01,  1.6943538e-01,\n",
       "         1.7072493e-01,  1.7141970e-01,  1.7158954e-01,  1.7177577e-01,\n",
       "         1.7182869e-01,  1.7151786e-01,  1.7126533e-01,  1.7143783e-01,\n",
       "         1.7172755e-01,  1.7175125e-01,  1.7156577e-01], dtype=float32),\n",
       " array([-6.157524  ,  0.29535526,  0.16259645,  0.14679709,  0.10236314,\n",
       "         0.07967343,  0.07073067,  0.08225042,  0.13864131,  0.19839942,\n",
       "         0.25499776,  0.3039183 ,  0.2732276 ,  0.15718049,  0.15747552,\n",
       "         0.1564881 ,  0.15520534,  0.1540459 ,  0.1533874 ,  0.15344286,\n",
       "         0.1541916 ,  0.15538679,  0.15663716,  0.15753548,  0.15779178,\n",
       "         0.15732723,  0.15556999,  0.15556888,  0.15557306,  0.15557839,\n",
       "         0.15558307,  0.15558548,  0.15558481,  0.15558128,  0.15557611,\n",
       "         0.15557106,  0.15556787,  0.15556765,  0.15557043], dtype=float32),\n",
       " array([-6.1559887 ,  0.4298119 ,  0.20918344,  0.18703304,  0.17339328,\n",
       "         0.12848274,  0.13864282,  0.15476142,  0.13237363,  0.0837144 ,\n",
       "         0.04843409,  0.07003506,  0.12281904,  0.16744086,  0.167918  ,\n",
       "         0.16641441,  0.16506678,  0.1645419 ,  0.16470976,  0.16488872,\n",
       "         0.16445261,  0.16330132,  0.16194792,  0.16119678,  0.16155721,\n",
       "         0.16278848,  0.16467246,  0.1646798 ,  0.16470496,  0.16470225,\n",
       "         0.16467811,  0.16466926,  0.1646867 ,  0.16470473,  0.16470604,\n",
       "         0.16470556,  0.16471818,  0.16472974,  0.16472048], dtype=float32),\n",
       " array([-6.1603384 ,  0.26172107,  0.14834927,  0.12553915,  0.10864829,\n",
       "         0.09056993,  0.0920086 ,  0.11456858,  0.16793403,  0.2176003 ,\n",
       "         0.25551593,  0.26630214,  0.20402592,  0.15984802,  0.16017109,\n",
       "         0.15876284,  0.157     ,  0.1555296 ,  0.15488765,  0.15530196,\n",
       "         0.15661065,  0.15832569,  0.15981634,  0.16054313,  0.16025461,\n",
       "         0.15907484,  0.15793884,  0.1579644 ,  0.15785441,  0.15771733,\n",
       "         0.15760377,  0.15755479,  0.15758659,  0.15768509,  0.15781203,\n",
       "         0.15792021,  0.1579715 ,  0.1579506 ,  0.15786955], dtype=float32),\n",
       " array([-6.154122  ,  0.47333628,  0.21460873,  0.18202944,  0.14654738,\n",
       "         0.11585189,  0.13250136,  0.11732233,  0.09676487,  0.08098388,\n",
       "         0.07180209,  0.09869651,  0.12408664,  0.1690547 ,  0.16979781,\n",
       "         0.16822653,  0.16675314,  0.16600147,  0.16575706,  0.16530685,\n",
       "         0.16420594,  0.16272752,  0.16162735,  0.16150495,  0.1623413 ,\n",
       "         0.16355869,  0.16581637,  0.16589533,  0.16587432,  0.16582419,\n",
       "         0.16574286,  0.16564427,  0.16554816,  0.16546747,  0.16540666,\n",
       "         0.16536817,  0.165356  ,  0.16537178,  0.16541094], dtype=float32),\n",
       " array([-6.1601696 ,  0.26923925,  0.15385744,  0.13803117,  0.10235158,\n",
       "         0.08732188,  0.09391183,  0.13493352,  0.20223454,  0.24463195,\n",
       "         0.27017826,  0.23715866,  0.13737988,  0.15924923,  0.15952049,\n",
       "         0.15788642,  0.15592578,  0.154446  ,  0.1540505 ,  0.15489006,\n",
       "         0.15660508,  0.15848063,  0.15974708,  0.15989894,  0.15889843,\n",
       "         0.1571812 ,  0.15721165,  0.15722957,  0.15712328,  0.15699665,\n",
       "         0.15690224,  0.15687793,  0.15693115,  0.15703672,  0.1571489 ,\n",
       "         0.15722166,  0.15722825,  0.15717131,  0.15707967], dtype=float32),\n",
       " array([-6.1566944 ,  0.4221358 ,  0.18176754,  0.21474081,  0.19997096,\n",
       "         0.164111  ,  0.16251406,  0.11703708,  0.07467185,  0.08232035,\n",
       "         0.10404342,  0.10118631,  0.1149052 ,  0.1660203 ,  0.16635327,\n",
       "         0.16385628,  0.16198838,  0.16162965,  0.16198117,  0.16182135,\n",
       "         0.16091126,  0.15999185,  0.1597481 ,  0.1601604 ,  0.16077578,\n",
       "         0.16122818,  0.16241679,  0.16244943,  0.162477  ,  0.16246149,\n",
       "         0.16240184,  0.16234729,  0.1623317 ,  0.16233508,  0.16232197,\n",
       "         0.1622964 ,  0.1622938 ,  0.16232646,  0.16236539], dtype=float32),\n",
       " array([-6.1598    ,  0.34985712,  0.17505477,  0.17516954,  0.17791747,\n",
       "         0.16124892,  0.15693131,  0.10294451,  0.06655406,  0.09898718,\n",
       "         0.12099876,  0.11439975,  0.12583171,  0.17003982,  0.17031085,\n",
       "         0.16809875,  0.16644675,  0.16607952,  0.16626856,  0.16603164,\n",
       "         0.16529298,  0.16471297,  0.16475111,  0.16523464,  0.16571328,\n",
       "         0.16593947,  0.16693804,  0.1669878 ,  0.1670096 ,  0.16697395,\n",
       "         0.16688257,  0.1667973 ,  0.16676217,  0.16675983,  0.16675362,\n",
       "         0.16674283,  0.1667533 ,  0.16679077,  0.16683303], dtype=float32),\n",
       " array([-6.1622224 ,  0.20650755,  0.20614153,  0.20555048,  0.2047613 ,\n",
       "         0.20380878,  0.2027331 ,  0.20157689,  0.20038226,  0.19918814,\n",
       "         0.19802785,  0.19692737,  0.19590423,  0.14349055,  0.14309368,\n",
       "         0.14305605,  0.14299786,  0.14292538,  0.14284651,  0.14276993,\n",
       "         0.1427043 ,  0.14265732,  0.14263505,  0.14264134,  0.14267741,\n",
       "         0.14274195,  0.14484759,  0.1450211 ,  0.14500725,  0.14498548,\n",
       "         0.14495756,  0.14492571,  0.14489244,  0.14486022,  0.14483126,\n",
       "         0.14480726,  0.14478941,  0.14477806,  0.1447729 ], dtype=float32),\n",
       " array([-6.1585116 ,  0.36298662,  0.19920287,  0.18958317,  0.18546781,\n",
       "         0.15365419,  0.12506947,  0.07534446,  0.06200157,  0.09241451,\n",
       "         0.10115582,  0.10952565,  0.14246798,  0.17226419,  0.17306232,\n",
       "         0.1707878 ,  0.16864699,  0.16740395,  0.16674016,  0.1660189 ,\n",
       "         0.16514911,  0.16457374,  0.16462658,  0.16515507,  0.16578887,\n",
       "         0.16643015,  0.16831392,  0.16843893,  0.1683274 ,  0.16814911,\n",
       "         0.16797219,  0.1678609 ,  0.16779658,  0.16771674,  0.16762404,\n",
       "         0.16759285,  0.1676554 ,  0.16774614,  0.16779545], dtype=float32)]"
      ]
     },
     "execution_count": 8,
     "metadata": {},
     "output_type": "execute_result"
    }
   ],
   "source": [
    "feature_vectors"
   ]
  },
  {
   "cell_type": "code",
   "execution_count": 17,
   "metadata": {},
   "outputs": [],
   "source": [
    "# save results to this json file\n",
    "tsne_path = \"E:\\example-audio-tSNE-onsets.json\"\n",
    "x_norm = (x_axis - np.min(x_axis)) / (np.max(x_axis) - np.min(x_axis))\n",
    "y_norm = (y_axis - np.min(y_axis)) / (np.max(y_axis) - np.min(y_axis))"
   ]
  },
  {
   "cell_type": "code",
   "execution_count": 20,
   "metadata": {},
   "outputs": [
    {
     "ename": "AttributeError",
     "evalue": "'numpy.float32' object has no attribute '__dict__'",
     "output_type": "error",
     "traceback": [
      "\u001b[1;31m---------------------------------------------------------------------------\u001b[0m",
      "\u001b[1;31mAttributeError\u001b[0m                            Traceback (most recent call last)",
      "\u001b[1;32m<ipython-input-20-9c66c3d70487>\u001b[0m in \u001b[0;36m<module>\u001b[1;34m\u001b[0m\n\u001b[0;32m      1\u001b[0m \u001b[0mdata\u001b[0m \u001b[1;33m=\u001b[0m \u001b[1;33m[\u001b[0m\u001b[1;33m{\u001b[0m\u001b[1;34m\"path\"\u001b[0m\u001b[1;33m:\u001b[0m\u001b[0mos\u001b[0m\u001b[1;33m.\u001b[0m\u001b[0mpath\u001b[0m\u001b[1;33m.\u001b[0m\u001b[0mabspath\u001b[0m\u001b[1;33m(\u001b[0m\u001b[0mf\u001b[0m\u001b[1;33m)\u001b[0m\u001b[1;33m,\u001b[0m \u001b[1;34m\"point\"\u001b[0m\u001b[1;33m:\u001b[0m\u001b[1;33m[\u001b[0m\u001b[0mx\u001b[0m\u001b[1;33m,\u001b[0m \u001b[0my\u001b[0m\u001b[1;33m]\u001b[0m\u001b[1;33m}\u001b[0m \u001b[1;32mfor\u001b[0m \u001b[0mf\u001b[0m\u001b[1;33m,\u001b[0m \u001b[0mx\u001b[0m\u001b[1;33m,\u001b[0m \u001b[0my\u001b[0m \u001b[1;32min\u001b[0m \u001b[0mzip\u001b[0m\u001b[1;33m(\u001b[0m\u001b[0msound_paths\u001b[0m\u001b[1;33m,\u001b[0m \u001b[0mx_norm\u001b[0m\u001b[1;33m,\u001b[0m \u001b[0my_norm\u001b[0m\u001b[1;33m)\u001b[0m\u001b[1;33m]\u001b[0m\u001b[1;33m\u001b[0m\u001b[1;33m\u001b[0m\u001b[0m\n\u001b[0;32m      2\u001b[0m \u001b[1;32mwith\u001b[0m \u001b[0mopen\u001b[0m\u001b[1;33m(\u001b[0m\u001b[0mtsne_path\u001b[0m\u001b[1;33m,\u001b[0m \u001b[1;34m'w'\u001b[0m\u001b[1;33m)\u001b[0m \u001b[1;32mas\u001b[0m \u001b[0moutfile\u001b[0m\u001b[1;33m:\u001b[0m\u001b[1;33m\u001b[0m\u001b[1;33m\u001b[0m\u001b[0m\n\u001b[1;32m----> 3\u001b[1;33m     \u001b[0mjson\u001b[0m\u001b[1;33m.\u001b[0m\u001b[0mdump\u001b[0m\u001b[1;33m(\u001b[0m\u001b[0mdata\u001b[0m\u001b[1;33m,\u001b[0m \u001b[0moutfile\u001b[0m\u001b[1;33m,\u001b[0m\u001b[0mcls\u001b[0m\u001b[1;33m=\u001b[0m\u001b[0mMyEncoder\u001b[0m\u001b[1;33m)\u001b[0m\u001b[1;33m\u001b[0m\u001b[1;33m\u001b[0m\u001b[0m\n\u001b[0m\u001b[0;32m      4\u001b[0m \u001b[0mprint\u001b[0m\u001b[1;33m(\u001b[0m\u001b[1;34m\"saved %s to disk!\"\u001b[0m \u001b[1;33m%\u001b[0m \u001b[0mtsne_path\u001b[0m\u001b[1;33m)\u001b[0m\u001b[1;33m\u001b[0m\u001b[1;33m\u001b[0m\u001b[0m\n",
      "\u001b[1;32m~\\Anaconda3\\lib\\json\\__init__.py\u001b[0m in \u001b[0;36mdump\u001b[1;34m(obj, fp, skipkeys, ensure_ascii, check_circular, allow_nan, cls, indent, separators, default, sort_keys, **kw)\u001b[0m\n\u001b[0;32m    177\u001b[0m     \u001b[1;31m# could accelerate with writelines in some versions of Python, at\u001b[0m\u001b[1;33m\u001b[0m\u001b[1;33m\u001b[0m\u001b[1;33m\u001b[0m\u001b[0m\n\u001b[0;32m    178\u001b[0m     \u001b[1;31m# a debuggability cost\u001b[0m\u001b[1;33m\u001b[0m\u001b[1;33m\u001b[0m\u001b[1;33m\u001b[0m\u001b[0m\n\u001b[1;32m--> 179\u001b[1;33m     \u001b[1;32mfor\u001b[0m \u001b[0mchunk\u001b[0m \u001b[1;32min\u001b[0m \u001b[0miterable\u001b[0m\u001b[1;33m:\u001b[0m\u001b[1;33m\u001b[0m\u001b[1;33m\u001b[0m\u001b[0m\n\u001b[0m\u001b[0;32m    180\u001b[0m         \u001b[0mfp\u001b[0m\u001b[1;33m.\u001b[0m\u001b[0mwrite\u001b[0m\u001b[1;33m(\u001b[0m\u001b[0mchunk\u001b[0m\u001b[1;33m)\u001b[0m\u001b[1;33m\u001b[0m\u001b[1;33m\u001b[0m\u001b[0m\n\u001b[0;32m    181\u001b[0m \u001b[1;33m\u001b[0m\u001b[0m\n",
      "\u001b[1;32m~\\Anaconda3\\lib\\json\\encoder.py\u001b[0m in \u001b[0;36m_iterencode\u001b[1;34m(o, _current_indent_level)\u001b[0m\n\u001b[0;32m    427\u001b[0m             \u001b[1;32myield\u001b[0m \u001b[0m_floatstr\u001b[0m\u001b[1;33m(\u001b[0m\u001b[0mo\u001b[0m\u001b[1;33m)\u001b[0m\u001b[1;33m\u001b[0m\u001b[1;33m\u001b[0m\u001b[0m\n\u001b[0;32m    428\u001b[0m         \u001b[1;32melif\u001b[0m \u001b[0misinstance\u001b[0m\u001b[1;33m(\u001b[0m\u001b[0mo\u001b[0m\u001b[1;33m,\u001b[0m \u001b[1;33m(\u001b[0m\u001b[0mlist\u001b[0m\u001b[1;33m,\u001b[0m \u001b[0mtuple\u001b[0m\u001b[1;33m)\u001b[0m\u001b[1;33m)\u001b[0m\u001b[1;33m:\u001b[0m\u001b[1;33m\u001b[0m\u001b[1;33m\u001b[0m\u001b[0m\n\u001b[1;32m--> 429\u001b[1;33m             \u001b[1;32myield\u001b[0m \u001b[1;32mfrom\u001b[0m \u001b[0m_iterencode_list\u001b[0m\u001b[1;33m(\u001b[0m\u001b[0mo\u001b[0m\u001b[1;33m,\u001b[0m \u001b[0m_current_indent_level\u001b[0m\u001b[1;33m)\u001b[0m\u001b[1;33m\u001b[0m\u001b[1;33m\u001b[0m\u001b[0m\n\u001b[0m\u001b[0;32m    430\u001b[0m         \u001b[1;32melif\u001b[0m \u001b[0misinstance\u001b[0m\u001b[1;33m(\u001b[0m\u001b[0mo\u001b[0m\u001b[1;33m,\u001b[0m \u001b[0mdict\u001b[0m\u001b[1;33m)\u001b[0m\u001b[1;33m:\u001b[0m\u001b[1;33m\u001b[0m\u001b[1;33m\u001b[0m\u001b[0m\n\u001b[0;32m    431\u001b[0m             \u001b[1;32myield\u001b[0m \u001b[1;32mfrom\u001b[0m \u001b[0m_iterencode_dict\u001b[0m\u001b[1;33m(\u001b[0m\u001b[0mo\u001b[0m\u001b[1;33m,\u001b[0m \u001b[0m_current_indent_level\u001b[0m\u001b[1;33m)\u001b[0m\u001b[1;33m\u001b[0m\u001b[1;33m\u001b[0m\u001b[0m\n",
      "\u001b[1;32m~\\Anaconda3\\lib\\json\\encoder.py\u001b[0m in \u001b[0;36m_iterencode_list\u001b[1;34m(lst, _current_indent_level)\u001b[0m\n\u001b[0;32m    323\u001b[0m                 \u001b[1;32melse\u001b[0m\u001b[1;33m:\u001b[0m\u001b[1;33m\u001b[0m\u001b[1;33m\u001b[0m\u001b[0m\n\u001b[0;32m    324\u001b[0m                     \u001b[0mchunks\u001b[0m \u001b[1;33m=\u001b[0m \u001b[0m_iterencode\u001b[0m\u001b[1;33m(\u001b[0m\u001b[0mvalue\u001b[0m\u001b[1;33m,\u001b[0m \u001b[0m_current_indent_level\u001b[0m\u001b[1;33m)\u001b[0m\u001b[1;33m\u001b[0m\u001b[1;33m\u001b[0m\u001b[0m\n\u001b[1;32m--> 325\u001b[1;33m                 \u001b[1;32myield\u001b[0m \u001b[1;32mfrom\u001b[0m \u001b[0mchunks\u001b[0m\u001b[1;33m\u001b[0m\u001b[1;33m\u001b[0m\u001b[0m\n\u001b[0m\u001b[0;32m    326\u001b[0m         \u001b[1;32mif\u001b[0m \u001b[0mnewline_indent\u001b[0m \u001b[1;32mis\u001b[0m \u001b[1;32mnot\u001b[0m \u001b[1;32mNone\u001b[0m\u001b[1;33m:\u001b[0m\u001b[1;33m\u001b[0m\u001b[1;33m\u001b[0m\u001b[0m\n\u001b[0;32m    327\u001b[0m             \u001b[0m_current_indent_level\u001b[0m \u001b[1;33m-=\u001b[0m \u001b[1;36m1\u001b[0m\u001b[1;33m\u001b[0m\u001b[1;33m\u001b[0m\u001b[0m\n",
      "\u001b[1;32m~\\Anaconda3\\lib\\json\\encoder.py\u001b[0m in \u001b[0;36m_iterencode_dict\u001b[1;34m(dct, _current_indent_level)\u001b[0m\n\u001b[0;32m    403\u001b[0m                 \u001b[1;32melse\u001b[0m\u001b[1;33m:\u001b[0m\u001b[1;33m\u001b[0m\u001b[1;33m\u001b[0m\u001b[0m\n\u001b[0;32m    404\u001b[0m                     \u001b[0mchunks\u001b[0m \u001b[1;33m=\u001b[0m \u001b[0m_iterencode\u001b[0m\u001b[1;33m(\u001b[0m\u001b[0mvalue\u001b[0m\u001b[1;33m,\u001b[0m \u001b[0m_current_indent_level\u001b[0m\u001b[1;33m)\u001b[0m\u001b[1;33m\u001b[0m\u001b[1;33m\u001b[0m\u001b[0m\n\u001b[1;32m--> 405\u001b[1;33m                 \u001b[1;32myield\u001b[0m \u001b[1;32mfrom\u001b[0m \u001b[0mchunks\u001b[0m\u001b[1;33m\u001b[0m\u001b[1;33m\u001b[0m\u001b[0m\n\u001b[0m\u001b[0;32m    406\u001b[0m         \u001b[1;32mif\u001b[0m \u001b[0mnewline_indent\u001b[0m \u001b[1;32mis\u001b[0m \u001b[1;32mnot\u001b[0m \u001b[1;32mNone\u001b[0m\u001b[1;33m:\u001b[0m\u001b[1;33m\u001b[0m\u001b[1;33m\u001b[0m\u001b[0m\n\u001b[0;32m    407\u001b[0m             \u001b[0m_current_indent_level\u001b[0m \u001b[1;33m-=\u001b[0m \u001b[1;36m1\u001b[0m\u001b[1;33m\u001b[0m\u001b[1;33m\u001b[0m\u001b[0m\n",
      "\u001b[1;32m~\\Anaconda3\\lib\\json\\encoder.py\u001b[0m in \u001b[0;36m_iterencode_list\u001b[1;34m(lst, _current_indent_level)\u001b[0m\n\u001b[0;32m    323\u001b[0m                 \u001b[1;32melse\u001b[0m\u001b[1;33m:\u001b[0m\u001b[1;33m\u001b[0m\u001b[1;33m\u001b[0m\u001b[0m\n\u001b[0;32m    324\u001b[0m                     \u001b[0mchunks\u001b[0m \u001b[1;33m=\u001b[0m \u001b[0m_iterencode\u001b[0m\u001b[1;33m(\u001b[0m\u001b[0mvalue\u001b[0m\u001b[1;33m,\u001b[0m \u001b[0m_current_indent_level\u001b[0m\u001b[1;33m)\u001b[0m\u001b[1;33m\u001b[0m\u001b[1;33m\u001b[0m\u001b[0m\n\u001b[1;32m--> 325\u001b[1;33m                 \u001b[1;32myield\u001b[0m \u001b[1;32mfrom\u001b[0m \u001b[0mchunks\u001b[0m\u001b[1;33m\u001b[0m\u001b[1;33m\u001b[0m\u001b[0m\n\u001b[0m\u001b[0;32m    326\u001b[0m         \u001b[1;32mif\u001b[0m \u001b[0mnewline_indent\u001b[0m \u001b[1;32mis\u001b[0m \u001b[1;32mnot\u001b[0m \u001b[1;32mNone\u001b[0m\u001b[1;33m:\u001b[0m\u001b[1;33m\u001b[0m\u001b[1;33m\u001b[0m\u001b[0m\n\u001b[0;32m    327\u001b[0m             \u001b[0m_current_indent_level\u001b[0m \u001b[1;33m-=\u001b[0m \u001b[1;36m1\u001b[0m\u001b[1;33m\u001b[0m\u001b[1;33m\u001b[0m\u001b[0m\n",
      "\u001b[1;32m~\\Anaconda3\\lib\\json\\encoder.py\u001b[0m in \u001b[0;36m_iterencode\u001b[1;34m(o, _current_indent_level)\u001b[0m\n\u001b[0;32m    436\u001b[0m                     \u001b[1;32mraise\u001b[0m \u001b[0mValueError\u001b[0m\u001b[1;33m(\u001b[0m\u001b[1;34m\"Circular reference detected\"\u001b[0m\u001b[1;33m)\u001b[0m\u001b[1;33m\u001b[0m\u001b[1;33m\u001b[0m\u001b[0m\n\u001b[0;32m    437\u001b[0m                 \u001b[0mmarkers\u001b[0m\u001b[1;33m[\u001b[0m\u001b[0mmarkerid\u001b[0m\u001b[1;33m]\u001b[0m \u001b[1;33m=\u001b[0m \u001b[0mo\u001b[0m\u001b[1;33m\u001b[0m\u001b[1;33m\u001b[0m\u001b[0m\n\u001b[1;32m--> 438\u001b[1;33m             \u001b[0mo\u001b[0m \u001b[1;33m=\u001b[0m \u001b[0m_default\u001b[0m\u001b[1;33m(\u001b[0m\u001b[0mo\u001b[0m\u001b[1;33m)\u001b[0m\u001b[1;33m\u001b[0m\u001b[1;33m\u001b[0m\u001b[0m\n\u001b[0m\u001b[0;32m    439\u001b[0m             \u001b[1;32myield\u001b[0m \u001b[1;32mfrom\u001b[0m \u001b[0m_iterencode\u001b[0m\u001b[1;33m(\u001b[0m\u001b[0mo\u001b[0m\u001b[1;33m,\u001b[0m \u001b[0m_current_indent_level\u001b[0m\u001b[1;33m)\u001b[0m\u001b[1;33m\u001b[0m\u001b[1;33m\u001b[0m\u001b[0m\n\u001b[0;32m    440\u001b[0m             \u001b[1;32mif\u001b[0m \u001b[0mmarkers\u001b[0m \u001b[1;32mis\u001b[0m \u001b[1;32mnot\u001b[0m \u001b[1;32mNone\u001b[0m\u001b[1;33m:\u001b[0m\u001b[1;33m\u001b[0m\u001b[1;33m\u001b[0m\u001b[0m\n",
      "\u001b[1;32m<ipython-input-11-c14d55f5630c>\u001b[0m in \u001b[0;36mdefault\u001b[1;34m(self, o)\u001b[0m\n\u001b[0;32m      2\u001b[0m \u001b[1;32mclass\u001b[0m \u001b[0mMyEncoder\u001b[0m\u001b[1;33m(\u001b[0m\u001b[0mJSONEncoder\u001b[0m\u001b[1;33m)\u001b[0m\u001b[1;33m:\u001b[0m\u001b[1;33m\u001b[0m\u001b[1;33m\u001b[0m\u001b[0m\n\u001b[0;32m      3\u001b[0m         \u001b[1;32mdef\u001b[0m \u001b[0mdefault\u001b[0m\u001b[1;33m(\u001b[0m\u001b[0mself\u001b[0m\u001b[1;33m,\u001b[0m \u001b[0mo\u001b[0m\u001b[1;33m)\u001b[0m\u001b[1;33m:\u001b[0m\u001b[1;33m\u001b[0m\u001b[1;33m\u001b[0m\u001b[0m\n\u001b[1;32m----> 4\u001b[1;33m             \u001b[1;32mreturn\u001b[0m \u001b[0mo\u001b[0m\u001b[1;33m.\u001b[0m\u001b[0m__dict__\u001b[0m\u001b[1;33m\u001b[0m\u001b[1;33m\u001b[0m\u001b[0m\n\u001b[0m\u001b[0;32m      5\u001b[0m \u001b[1;31m# save results to this json file\u001b[0m\u001b[1;33m\u001b[0m\u001b[1;33m\u001b[0m\u001b[1;33m\u001b[0m\u001b[0m\n\u001b[0;32m      6\u001b[0m \u001b[0mtsne_path\u001b[0m \u001b[1;33m=\u001b[0m \u001b[1;34m\"E:\\example-audio-tSNE-onsets.json\"\u001b[0m\u001b[1;33m\u001b[0m\u001b[1;33m\u001b[0m\u001b[0m\n",
      "\u001b[1;31mAttributeError\u001b[0m: 'numpy.float32' object has no attribute '__dict__'"
     ]
    }
   ],
   "source": [
    "\n",
    "data = [{\"path\":os.path.abspath(f), \"point\":[x, y]} for f, x, y in zip(sound_paths, x_norm, y_norm)]\n",
    "with open(tsne_path, 'w') as outfile:\n",
    "    json.dump(data, outfile,cls=MyEncoder)\n",
    "print(\"saved %s to disk!\" % tsne_path)"
   ]
  },
  {
   "cell_type": "code",
   "execution_count": null,
   "metadata": {},
   "outputs": [],
   "source": []
  }
 ],
 "metadata": {
  "kernelspec": {
   "display_name": "Python 3",
   "language": "python",
   "name": "python3"
  },
  "language_info": {
   "codemirror_mode": {
    "name": "ipython",
    "version": 3
   },
   "file_extension": ".py",
   "mimetype": "text/x-python",
   "name": "python",
   "nbconvert_exporter": "python",
   "pygments_lexer": "ipython3",
   "version": "3.7.3"
  }
 },
 "nbformat": 4,
 "nbformat_minor": 2
}
